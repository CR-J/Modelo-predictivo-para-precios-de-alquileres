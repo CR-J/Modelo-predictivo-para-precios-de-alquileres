{
 "cells": [
  {
   "cell_type": "markdown",
   "metadata": {},
   "source": [
    "Cargo las librerías:"
   ]
  },
  {
   "cell_type": "code",
   "execution_count": 1,
   "metadata": {},
   "outputs": [],
   "source": [
    "import pandas as pd\n",
    "from sklearn.ensemble import RandomForestRegressor\n",
    "import numpy as np\n",
    "import sklearn as sk"
   ]
  },
  {
   "cell_type": "markdown",
   "metadata": {},
   "source": [
    "Cargo los datos:"
   ]
  },
  {
   "cell_type": "code",
   "execution_count": 2,
   "metadata": {},
   "outputs": [],
   "source": [
    "X_train = pd.read_csv('X_train.csv')\n",
    "del X_train['Unnamed: 0']\n",
    "\n",
    "X_test = pd.read_csv('X_test.csv')\n",
    "del X_test['Unnamed: 0']"
   ]
  },
  {
   "cell_type": "markdown",
   "metadata": {},
   "source": [
    "Defino una función que impute las variables continuas empleando un modelo de Random Forest.\n",
    "\n",
    "En principio, emplear un modelo de KNN podría parecer interesante, pero me decanto por un modelo de Random Forest debido a que el modelo KNN se ve muy afectado por la conocida cómo \"curse of dimensionality\", mientras que el modelo de Random Forest no se ve afectado prácticamente por este problema.\n",
    "\n",
    "Aunque a primera vista se podría pensar que la llamada \"curse of dimensionality\" no debería ser un problema, teniendo 14763 observaciones, tengo 34 variables.\n",
    "\n",
    "Una solución sería estandarizar estas variables, aplicar un análisis de componentes principales, y después aplicar KNN, eligiendo el número de vecinos y de componentes mediante, por ejemplo, grid search (con cross-validation).\n",
    "\n",
    "Otra alternativa, por la que yo me he decantado, es realizar la imputación empleando un modelo que no se vea afectado (o que apenas se vea afectado) por dicha \"curse of dimensionality\", como es un Random Forest, que demostraré a continuación que es una excelente elección:"
   ]
  },
  {
   "cell_type": "code",
   "execution_count": 3,
   "metadata": {},
   "outputs": [],
   "source": [
    "def Imputar_RFR(objetivo_train,datos_train,datos_imputar):\n",
    "    \n",
    "    # Defino valores para los NAN y los infinitos,\n",
    "    # asegurándome de que estos valores no coinciden con otros.\n",
    "    # ESTO FUNCIONA SÓLO POR QUE ESTE MODELO ES UN RANDOM FOREST,\n",
    "    # si el modelo fuese, por ejemplo, una regresión, realizar esta\n",
    "    # transformación sería un gravísimo error.\n",
    "    \n",
    "    Min_t = np.min(np.min(datos_train))\n",
    "    Min_i = np.min(np.min(datos_imputar))\n",
    "    Min = np.min([Min_t,Min_i])\n",
    "    \n",
    "    Max_t = np.max(np.max(datos_train))\n",
    "    Max_i = np.max(np.max(datos_imputar))\n",
    "    Max = np.max([Max_t,Max_i])\n",
    "    \n",
    "    V1 = Min-(Max-Min)\n",
    "    V2 = Min-(3/2)*(Max-Min)\n",
    "    V3 = Min-(2)*(Max-Min)\n",
    "    \n",
    "    datos_train = np.nan_to_num(datos_train,nan=V2, posinf=V1, neginf=V3)\n",
    "    datos_imputar = np.nan_to_num(datos_imputar,nan=V2, posinf=V1, neginf=V3)\n",
    "    \n",
    "    # Entreno un random forest con 100 árboles, usando 6 variables en cada árbol\n",
    "    # y empleando cost-complexity pruning.\n",
    "    \n",
    "    model = RandomForestRegressor(n_estimators=100, n_jobs=-1, bootstrap = True,\n",
    "                                  max_features=6, ccp_alpha=0.00025)\n",
    "    \n",
    "    model.fit(datos_train, objetivo_train)\n",
    "    \n",
    "    # Devuelvo las predicciones:\n",
    "    \n",
    "    return model.predict(datos_imputar)"
   ]
  },
  {
   "cell_type": "markdown",
   "metadata": {},
   "source": [
    "Para comprobar que funciona de forma eficaz, voy a probar esta función en la siguiente variable:"
   ]
  },
  {
   "cell_type": "code",
   "execution_count": 4,
   "metadata": {},
   "outputs": [
    {
     "data": {
      "text/plain": [
       "0    99.0\n",
       "1     NaN\n",
       "2     NaN\n",
       "3    98.0\n",
       "4     NaN\n",
       "Name: Review Scores Rating, dtype: float64"
      ]
     },
     "execution_count": 4,
     "metadata": {},
     "output_type": "execute_result"
    }
   ],
   "source": [
    "X_train['Review Scores Rating'].head()"
   ]
  },
  {
   "cell_type": "markdown",
   "metadata": {},
   "source": [
    "Guardo las columnas que emplearé para la imputación. Emplearé todas las columnas, excepto aquellas que provienen de las variables Amenities y Features, ya que son bastante distintas al resto, la propia columna a imputar, y por supuesto no empleo la variable objetivo:"
   ]
  },
  {
   "cell_type": "markdown",
   "metadata": {},
   "source": [
    "Lista de columnas sin la variable objetivo, Amenities y Features:"
   ]
  },
  {
   "cell_type": "code",
   "execution_count": 5,
   "metadata": {},
   "outputs": [
    {
     "data": {
      "text/plain": [
       "Index(['Host Response Time', 'Host Response Rate', 'Host Listings Count',\n",
       "       'Host Total Listings Count', 'Host Verifications', 'Property Type',\n",
       "       'Room Type', 'Accommodates', 'Bathrooms', 'Bedrooms', 'Beds',\n",
       "       'Bed Type', 'Guests Included', 'Extra People', 'Minimum Nights',\n",
       "       'Maximum Nights', 'Calendar Updated', 'Availability 30',\n",
       "       'Availability 60', 'Availability 90', 'Availability 365',\n",
       "       'Number of Reviews', 'Review Scores Rating', 'Review Scores Accuracy',\n",
       "       'Review Scores Cleanliness', 'Review Scores Checkin',\n",
       "       'Review Scores Communication', 'Review Scores Location',\n",
       "       'Review Scores Value', 'Cancellation Policy',\n",
       "       'Calculated host listings count', 'Reviews per Month', 'Square Feet',\n",
       "       'Zona'],\n",
       "      dtype='object')"
      ]
     },
     "execution_count": 5,
     "metadata": {},
     "output_type": "execute_result"
    }
   ],
   "source": [
    "X_train.columns[0:34]"
   ]
  },
  {
   "cell_type": "markdown",
   "metadata": {},
   "source": [
    "Elimino la variable a imputar del listado de columnas:"
   ]
  },
  {
   "cell_type": "code",
   "execution_count": 6,
   "metadata": {},
   "outputs": [],
   "source": [
    "# lista2 es una lista con todas las variables menos 'Review Scores Rating':\n",
    "\n",
    "lista2 = list(X_train.columns[0:34])\n",
    "lista2.remove('Review Scores Rating')"
   ]
  },
  {
   "cell_type": "markdown",
   "metadata": {},
   "source": [
    "Realizo la imputación:"
   ]
  },
  {
   "cell_type": "code",
   "execution_count": 7,
   "metadata": {},
   "outputs": [
    {
     "data": {
      "text/plain": [
       "array([98.09175402, 97.77708759, 83.64716667, ..., 81.13442857,\n",
       "       92.16294156, 99.68314774])"
      ]
     },
     "execution_count": 7,
     "metadata": {},
     "output_type": "execute_result"
    }
   ],
   "source": [
    "Predicciones = Imputar_RFR(\n",
    "    X_train['Review Scores Rating'][X_train['Review Scores Rating'].isna()==False],\n",
    "    X_train[lista2][X_train['Review Scores Rating'].isna()==False],\n",
    "    X_train[lista2][X_train['Review Scores Rating'].isna()==False])\n",
    "Predicciones"
   ]
  },
  {
   "cell_type": "markdown",
   "metadata": {},
   "source": [
    "El error cuadrático medio entre los valores reales y los imputados (he \"imputado\" los valores que no faltan, para poder medir la eficacia del método):"
   ]
  },
  {
   "cell_type": "code",
   "execution_count": 8,
   "metadata": {},
   "outputs": [
    {
     "data": {
      "text/plain": [
       "3.067100133465432"
      ]
     },
     "execution_count": 8,
     "metadata": {},
     "output_type": "execute_result"
    }
   ],
   "source": [
    "sk.metrics.mean_squared_error(X_train['Review Scores Rating'][X_train['Review Scores Rating'].isna()==False],\n",
    "                                  Predicciones)"
   ]
  },
  {
   "cell_type": "markdown",
   "metadata": {},
   "source": [
    "Compruebo cuál hubiese sido este mismo error cuadrático medio, de haber imputado con la media:"
   ]
  },
  {
   "cell_type": "code",
   "execution_count": 9,
   "metadata": {},
   "outputs": [
    {
     "data": {
      "text/plain": [
       "80.11289285839447"
      ]
     },
     "execution_count": 9,
     "metadata": {},
     "output_type": "execute_result"
    }
   ],
   "source": [
    "# Genero un vector de predicciones que es una repetición de la media:\n",
    "\n",
    "Predecir_media = np.ones(sum(X_train['Review Scores Rating'].isna()==False))*np.mean(X_train['Review Scores Rating'][X_train['Review Scores Rating'].isna()==False])\n",
    "\n",
    "sk.metrics.mean_squared_error(X_train['Review Scores Rating'][X_train['Review Scores Rating'].isna()==False],\n",
    "                                  Predecir_media)"
   ]
  },
  {
   "cell_type": "markdown",
   "metadata": {},
   "source": [
    "Emplear un modelo de Random Forest demuestra ser una opción muy superior para realizar las imputaciones.\n",
    "\n",
    "El siguiente bucle emplea esta función para imputar todos los valores del dataset de test, empleando el dataset de train para entrenar los modelos de Random Forest que imputarán los datos:"
   ]
  },
  {
   "cell_type": "code",
   "execution_count": 10,
   "metadata": {},
   "outputs": [
    {
     "name": "stdout",
     "output_type": "stream",
     "text": [
      "Host Response Rate\n",
      "Host Listings Count\n",
      "Host Total Listings Count\n",
      "Bathrooms\n",
      "Bedrooms\n",
      "Beds\n",
      "Review Scores Rating\n",
      "Review Scores Accuracy\n",
      "Review Scores Cleanliness\n",
      "Review Scores Checkin\n",
      "Review Scores Communication\n",
      "Review Scores Location\n",
      "Review Scores Value\n",
      "Reviews per Month\n"
     ]
    }
   ],
   "source": [
    "# Para cada columna:\n",
    "\n",
    "for variable in list(X_train.columns):\n",
    "    \n",
    "    # Si, y sólo si la columna tiene valores faltantes:\n",
    "    \n",
    "    if sum(X_test[variable].isna()) != 0:\n",
    "        print(variable)\n",
    "        \n",
    "        # Predigo los valores faltantes empleando un random forest:\n",
    "        \n",
    "        lista2 = list(X_train.columns)\n",
    "        lista2.remove(variable)\n",
    "        \n",
    "        Predicciones = Imputar_RFR(\n",
    "        X_train[variable][X_train[variable].isna()==False],\n",
    "        X_train[lista2][X_train[variable].isna()==False],\n",
    "        X_test[lista2][X_test[variable].isna()])\n",
    "    \n",
    "        # Sustituyo los valores faltantes por las predicciones:\n",
    "        \n",
    "        X_test.loc[X_test[variable].isna(),variable] = Predicciones"
   ]
  },
  {
   "cell_type": "markdown",
   "metadata": {},
   "source": [
    "Compruebo que he eliminado los valores faltantes de las primeras 34 columnas (las siguientes columnas pertenecen a Amenities y Features y no tienen valores faltantes):"
   ]
  },
  {
   "cell_type": "code",
   "execution_count": 11,
   "metadata": {},
   "outputs": [
    {
     "name": "stdout",
     "output_type": "stream",
     "text": [
      "<class 'pandas.core.frame.DataFrame'>\n",
      "RangeIndex: 1477 entries, 0 to 1476\n",
      "Data columns (total 34 columns):\n",
      " #   Column                          Non-Null Count  Dtype  \n",
      "---  ------                          --------------  -----  \n",
      " 0   Host Response Time              1477 non-null   int64  \n",
      " 1   Host Response Rate              1477 non-null   float64\n",
      " 2   Host Listings Count             1477 non-null   float64\n",
      " 3   Host Total Listings Count       1477 non-null   float64\n",
      " 4   Host Verifications              1477 non-null   int64  \n",
      " 5   Property Type                   1477 non-null   float64\n",
      " 6   Room Type                       1477 non-null   int64  \n",
      " 7   Accommodates                    1477 non-null   int64  \n",
      " 8   Bathrooms                       1477 non-null   float64\n",
      " 9   Bedrooms                        1477 non-null   float64\n",
      " 10  Beds                            1477 non-null   float64\n",
      " 11  Bed Type                        1477 non-null   float64\n",
      " 12  Guests Included                 1477 non-null   int64  \n",
      " 13  Extra People                    1477 non-null   int64  \n",
      " 14  Minimum Nights                  1477 non-null   int64  \n",
      " 15  Maximum Nights                  1477 non-null   int64  \n",
      " 16  Calendar Updated                1477 non-null   float64\n",
      " 17  Availability 30                 1477 non-null   int64  \n",
      " 18  Availability 60                 1477 non-null   int64  \n",
      " 19  Availability 90                 1477 non-null   int64  \n",
      " 20  Availability 365                1477 non-null   int64  \n",
      " 21  Number of Reviews               1477 non-null   int64  \n",
      " 22  Review Scores Rating            1477 non-null   float64\n",
      " 23  Review Scores Accuracy          1477 non-null   float64\n",
      " 24  Review Scores Cleanliness       1477 non-null   float64\n",
      " 25  Review Scores Checkin           1477 non-null   float64\n",
      " 26  Review Scores Communication     1477 non-null   float64\n",
      " 27  Review Scores Location          1477 non-null   float64\n",
      " 28  Review Scores Value             1477 non-null   float64\n",
      " 29  Cancellation Policy             1477 non-null   float64\n",
      " 30  Calculated host listings count  1477 non-null   float64\n",
      " 31  Reviews per Month               1477 non-null   float64\n",
      " 32  Square Feet                     1477 non-null   float64\n",
      " 33  Zona                            1477 non-null   float64\n",
      "dtypes: float64(21), int64(13)\n",
      "memory usage: 392.5 KB\n"
     ]
    }
   ],
   "source": [
    "X_test.iloc[:,0:34].info()"
   ]
  },
  {
   "cell_type": "markdown",
   "metadata": {},
   "source": [
    "En el siguiente bucle imputo los datos de train siguiendo el mismo procedimiento:"
   ]
  },
  {
   "cell_type": "code",
   "execution_count": 12,
   "metadata": {},
   "outputs": [
    {
     "name": "stdout",
     "output_type": "stream",
     "text": [
      "Host Response Rate\n",
      "Host Listings Count\n",
      "Host Total Listings Count\n",
      "Bathrooms\n",
      "Bedrooms\n",
      "Beds\n",
      "Review Scores Rating\n",
      "Review Scores Accuracy\n",
      "Review Scores Cleanliness\n",
      "Review Scores Checkin\n",
      "Review Scores Communication\n",
      "Review Scores Location\n",
      "Review Scores Value\n",
      "Calculated host listings count\n",
      "Reviews per Month\n"
     ]
    }
   ],
   "source": [
    "# Para cada columna:\n",
    "\n",
    "for variable in list(X_train.columns):\n",
    "    \n",
    "    # Si, y sólo si la columna tiene valores faltantes:\n",
    "    \n",
    "    if sum(X_train[variable].isna()) != 0:\n",
    "        print(variable)\n",
    "        \n",
    "        # Predigo los valores faltantes empleando un random forest:\n",
    "        \n",
    "        lista2 = list(X_train.columns)\n",
    "        lista2.remove(variable)\n",
    "        \n",
    "        Predicciones = Imputar_RFR(\n",
    "        X_train[variable][X_train[variable].isna()==False],\n",
    "        X_train[lista2][X_train[variable].isna()==False],\n",
    "        X_train[lista2][X_train[variable].isna()])\n",
    "    \n",
    "        # Sustituyo los valores faltantes por las predicciones:\n",
    "        \n",
    "        X_train.loc[X_train[variable].isna(),variable] = Predicciones"
   ]
  },
  {
   "cell_type": "markdown",
   "metadata": {},
   "source": [
    "Compruebo que he eliminado los valores faltantes de las primeras 34 columnas (las siguientes columnas pertenecen a Amenities y Features y no tienen valores faltantes):"
   ]
  },
  {
   "cell_type": "code",
   "execution_count": 13,
   "metadata": {},
   "outputs": [
    {
     "name": "stdout",
     "output_type": "stream",
     "text": [
      "<class 'pandas.core.frame.DataFrame'>\n",
      "RangeIndex: 13286 entries, 0 to 13285\n",
      "Data columns (total 34 columns):\n",
      " #   Column                          Non-Null Count  Dtype  \n",
      "---  ------                          --------------  -----  \n",
      " 0   Host Response Time              13286 non-null  int64  \n",
      " 1   Host Response Rate              13286 non-null  float64\n",
      " 2   Host Listings Count             13286 non-null  float64\n",
      " 3   Host Total Listings Count       13286 non-null  float64\n",
      " 4   Host Verifications              13286 non-null  int64  \n",
      " 5   Property Type                   13286 non-null  float64\n",
      " 6   Room Type                       13286 non-null  int64  \n",
      " 7   Accommodates                    13286 non-null  int64  \n",
      " 8   Bathrooms                       13286 non-null  float64\n",
      " 9   Bedrooms                        13286 non-null  float64\n",
      " 10  Beds                            13286 non-null  float64\n",
      " 11  Bed Type                        13286 non-null  float64\n",
      " 12  Guests Included                 13286 non-null  int64  \n",
      " 13  Extra People                    13286 non-null  int64  \n",
      " 14  Minimum Nights                  13286 non-null  int64  \n",
      " 15  Maximum Nights                  13286 non-null  int64  \n",
      " 16  Calendar Updated                13286 non-null  float64\n",
      " 17  Availability 30                 13286 non-null  int64  \n",
      " 18  Availability 60                 13286 non-null  int64  \n",
      " 19  Availability 90                 13286 non-null  int64  \n",
      " 20  Availability 365                13286 non-null  int64  \n",
      " 21  Number of Reviews               13286 non-null  int64  \n",
      " 22  Review Scores Rating            13286 non-null  float64\n",
      " 23  Review Scores Accuracy          13286 non-null  float64\n",
      " 24  Review Scores Cleanliness       13286 non-null  float64\n",
      " 25  Review Scores Checkin           13286 non-null  float64\n",
      " 26  Review Scores Communication     13286 non-null  float64\n",
      " 27  Review Scores Location          13286 non-null  float64\n",
      " 28  Review Scores Value             13286 non-null  float64\n",
      " 29  Cancellation Policy             13286 non-null  float64\n",
      " 30  Calculated host listings count  13286 non-null  float64\n",
      " 31  Reviews per Month               13286 non-null  float64\n",
      " 32  Square Feet                     13286 non-null  float64\n",
      " 33  Zona                            13286 non-null  float64\n",
      "dtypes: float64(21), int64(13)\n",
      "memory usage: 3.4 MB\n"
     ]
    }
   ],
   "source": [
    "X_train.iloc[:,0:34].info()"
   ]
  },
  {
   "cell_type": "markdown",
   "metadata": {},
   "source": [
    "Guardo los datasets con los datos imputados:"
   ]
  },
  {
   "cell_type": "code",
   "execution_count": 14,
   "metadata": {},
   "outputs": [],
   "source": [
    "#X_train.to_csv('X_train_imputado.csv')\n",
    "\n",
    "#X_test.to_csv('X_test_imputado.csv')"
   ]
  }
 ],
 "metadata": {
  "kernelspec": {
   "display_name": "Python 3",
   "language": "python",
   "name": "python3"
  },
  "language_info": {
   "codemirror_mode": {
    "name": "ipython",
    "version": 3
   },
   "file_extension": ".py",
   "mimetype": "text/x-python",
   "name": "python",
   "nbconvert_exporter": "python",
   "pygments_lexer": "ipython3",
   "version": "3.8.5"
  }
 },
 "nbformat": 4,
 "nbformat_minor": 4
}
